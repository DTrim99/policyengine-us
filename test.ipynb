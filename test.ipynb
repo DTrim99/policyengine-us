{
 "cells": [
  {
   "cell_type": "code",
   "execution_count": 1,
   "metadata": {},
   "outputs": [
    {
     "name": "stderr",
     "output_type": "stream",
     "text": [
      "/Users/pavelmakarchuk/anaconda3/envs/pe/lib/python3.10/site-packages/tqdm/auto.py:21: TqdmWarning: IProgress not found. Please update jupyter and ipywidgets. See https://ipywidgets.readthedocs.io/en/stable/user_install.html\n",
      "  from .autonotebook import tqdm as notebook_tqdm\n"
     ]
    },
    {
     "name": "stdout",
     "output_type": "stream",
     "text": [
      "[1251561.]\n"
     ]
    }
   ],
   "source": [
    "from policyengine_us import Simulation\n",
    "\n",
    "\n",
    "situation = {\n",
    "    \"people\": {\n",
    "        \"you\": {\"age\": {\"2024\": 40}, \"employment_income\": {\"2024\": 2000000}}\n",
    "    },\n",
    "    \"families\": {\"your family\": {\"members\": [\"you\"]}},\n",
    "    \"marital_units\": {\"your marital unit\": {\"members\": [\"you\"]}},\n",
    "    \"tax_units\": {\"your tax unit\": {\"members\": [\"you\"]}},\n",
    "    \"spm_units\": {\"your household\": {\"members\": [\"you\"]}},\n",
    "    \"households\": {\n",
    "        \"your household\": {\"members\": [\"you\"], \"state_name\": {\"2024\": \"TX\"}}\n",
    "    },\n",
    "}\n",
    "\n",
    "simulation = Simulation(\n",
    "    situation=situation,\n",
    ")\n",
    "\n",
    "output = simulation.calculate(\"household_net_income\", 2024)\n",
    "print(output)"
   ]
  },
  {
   "cell_type": "code",
   "execution_count": 2,
   "metadata": {},
   "outputs": [
    {
     "name": "stdout",
     "output_type": "stream",
     "text": [
      "[1985400.]\n"
     ]
    }
   ],
   "source": [
    "taxable_income = simulation.calculate(\"taxable_income\", 2024)\n",
    "print(taxable_income)"
   ]
  },
  {
   "cell_type": "code",
   "execution_count": 3,
   "metadata": {},
   "outputs": [
    {
     "name": "stdout",
     "output_type": "stream",
     "text": [
      "0.0\n"
     ]
    }
   ],
   "source": [
    "amt = simulation.calculate(\"alternative_minimum_tax\", 2024)\n",
    "print(amt.sum())"
   ]
  },
  {
   "cell_type": "code",
   "execution_count": 4,
   "metadata": {},
   "outputs": [
    {
     "name": "stdout",
     "output_type": "stream",
     "text": [
      "[0.]\n"
     ]
    }
   ],
   "source": [
    "tax_exempt_interest_income = simulation.calculate(\n",
    "    \"tax_exempt_interest_income\", 2024\n",
    ")\n",
    "print(tax_exempt_interest_income)"
   ]
  },
  {
   "cell_type": "code",
   "execution_count": 5,
   "metadata": {},
   "outputs": [
    {
     "name": "stdout",
     "output_type": "stream",
     "text": [
      "[   3495.      13614.745   20518.86    27655.145   36517.586   45396.99\n",
      "   54225.97    63024.965   71823.96    80622.95    89421.95    98220.945\n",
      "  107019.94   115818.94   124617.93   133101.78   141498.75   150035.5\n",
      "  159055.61   168075.72   177086.77   186016.42   194946.06   203875.72\n",
      "  212805.36   221735.     230664.66   239557.97   248336.64   257069.42\n",
      "  265809.2    274503.47   283167.78   291832.1    298943.9    305660.56\n",
      "  312210.3    318644.72   325056.     331467.25   337873.7    343480.94\n",
      "  349088.16   354695.4    360302.62   365909.88   371259.5    376565.25\n",
      "  381870.97   387176.7    392482.44   397788.16   403093.88   408399.62\n",
      "  413705.3    419011.06   424316.78   429622.5    434928.25   440233.97\n",
      "  445539.7    450845.44   456151.16   461456.88   466698.03   471897.22\n",
      "  477096.44   482295.62   487494.8    492694.     497893.2    503003.38\n",
      "  508096.     513188.7    518281.34   523374.03   528466.75   533559.4\n",
      "  538652.     543744.7    548837.4    553930.     558927.25   563818.94\n",
      "  568710.6    573602.25   578493.9    583385.56   588277.25   593168.9\n",
      "  598060.5    602952.2    607843.9    612735.5    617627.1    622518.8\n",
      "  627410.5    632302.1    637113.6    641898.75   646683.9    651469.\n",
      "  656254.1    661039.25   665824.4    670609.5    675394.6    680179.75\n",
      "  684964.9    689750.     694535.1    699320.25   704105.4    708890.5\n",
      "  713675.6    718460.75   723245.9    728031.     732816.1    737601.25\n",
      "  742386.4    747171.5    751956.6    756741.75   761526.9    766312.\n",
      "  771097.1    775882.25   780667.4    785452.5    790237.6    795022.75\n",
      "  799807.9    804593.     809378.1    814163.25   818948.4    823733.5\n",
      "  828518.6    833303.75   838088.9    842874.     847659.1    852444.25\n",
      "  857229.4    862014.5    866799.6    871584.75   876369.9    881155.\n",
      "  885940.2    890725.3    895510.44   900295.56   905080.7    909865.8\n",
      "  914650.94   919436.06   924221.2    929006.3    933791.44   938576.56\n",
      "  943361.75   948146.9    952932.     957717.1    962502.2    967287.3\n",
      "  972072.5    976857.56   981642.75   986427.8    991212.94   995998.06\n",
      " 1000783.2   1005568.4   1010353.44  1015138.6   1019923.7   1024708.9\n",
      " 1029493.94  1034279.1   1039064.2   1043849.4   1048634.5   1053419.6\n",
      " 1058204.8   1062989.9   1067775.    1072560.1   1077345.2   1082130.4\n",
      " 1086915.5   1091700.5   1096485.8   1101270.8   1106056.    1110841.\n",
      " 1115626.2   1120411.2  ]\n"
     ]
    }
   ],
   "source": [
    "from policyengine_us import Simulation\n",
    "\n",
    "\n",
    "situation = {\n",
    "    \"people\": {\n",
    "        \"you\": {\n",
    "            \"age\": {\"2024\": 40},\n",
    "            \"real_estate_taxes\": {\"2024\": 100000},\n",
    "            \"charitable_cash_donations\": {\"2024\": 100000},\n",
    "            \"charitable_non_cash_donations\": {\"2024\": 100000},\n",
    "        }\n",
    "    },\n",
    "    \"families\": {\"your family\": {\"members\": [\"you\"]}},\n",
    "    \"marital_units\": {\"your marital unit\": {\"members\": [\"you\"]}},\n",
    "    \"tax_units\": {\"your tax unit\": {\"members\": [\"you\"]}},\n",
    "    \"spm_units\": {\"your household\": {\"members\": [\"you\"]}},\n",
    "    \"households\": {\n",
    "        \"your household\": {\"members\": [\"you\"], \"state_name\": {\"2024\": \"CA\"}}\n",
    "    },\n",
    "    \"axes\": [\n",
    "        [{\"name\": \"employment_income\", \"count\": 200, \"min\": 0, \"max\": 2000000}]\n",
    "    ],\n",
    "}\n",
    "\n",
    "simulation = Simulation(\n",
    "    situation=situation,\n",
    ")\n",
    "\n",
    "output = simulation.calculate(\"household_net_income\", 2024)\n",
    "print(output)"
   ]
  },
  {
   "cell_type": "code",
   "execution_count": 6,
   "metadata": {},
   "outputs": [
    {
     "name": "stdout",
     "output_type": "stream",
     "text": [
      "[0. 0. 0. 0. 0. 0. 0. 0. 0. 0. 0. 0. 0. 0. 0. 0. 0. 0. 0. 0. 0. 0. 0. 0.\n",
      " 0. 0. 0. 0. 0. 0. 0. 0. 0. 0. 0. 0. 0. 0. 0. 0. 0. 0. 0. 0. 0. 0. 0. 0.\n",
      " 0. 0. 0. 0. 0. 0. 0. 0. 0. 0. 0. 0. 0. 0. 0. 0. 0. 0. 0. 0. 0. 0. 0. 0.\n",
      " 0. 0. 0. 0. 0. 0. 0. 0. 0. 0. 0. 0. 0. 0. 0. 0. 0. 0. 0. 0. 0. 0. 0. 0.\n",
      " 0. 0. 0. 0. 0. 0. 0. 0. 0. 0. 0. 0. 0. 0. 0. 0. 0. 0. 0. 0. 0. 0. 0. 0.\n",
      " 0. 0. 0. 0. 0. 0. 0. 0. 0. 0. 0. 0. 0. 0. 0. 0. 0. 0. 0. 0. 0. 0. 0. 0.\n",
      " 0. 0. 0. 0. 0. 0. 0. 0. 0. 0. 0. 0. 0. 0. 0. 0. 0. 0. 0. 0. 0. 0. 0. 0.\n",
      " 0. 0. 0. 0. 0. 0. 0. 0. 0. 0. 0. 0. 0. 0. 0. 0. 0. 0. 0. 0. 0. 0. 0. 0.\n",
      " 0. 0. 0. 0. 0. 0. 0. 0.]\n"
     ]
    }
   ],
   "source": [
    "amt = simulation.calculate(\"alternative_minimum_tax\", 2024)\n",
    "print(amt)"
   ]
  },
  {
   "cell_type": "code",
   "execution_count": null,
   "metadata": {},
   "outputs": [],
   "source": []
  }
 ],
 "metadata": {
  "kernelspec": {
   "display_name": "pe",
   "language": "python",
   "name": "python3"
  },
  "language_info": {
   "codemirror_mode": {
    "name": "ipython",
    "version": 3
   },
   "file_extension": ".py",
   "mimetype": "text/x-python",
   "name": "python",
   "nbconvert_exporter": "python",
   "pygments_lexer": "ipython3",
   "version": "3.10.14"
  }
 },
 "nbformat": 4,
 "nbformat_minor": 2
}
